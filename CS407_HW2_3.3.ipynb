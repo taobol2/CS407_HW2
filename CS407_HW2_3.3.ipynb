{
  "nbformat": 4,
  "nbformat_minor": 0,
  "metadata": {
    "colab": {
      "provenance": []
    },
    "kernelspec": {
      "name": "python3",
      "display_name": "Python 3"
    },
    "language_info": {
      "name": "python"
    }
  },
  "cells": [
    {
      "cell_type": "code",
      "execution_count": 13,
      "metadata": {
        "id": "6QYxU3tiVfuO"
      },
      "outputs": [],
      "source": [
        "import requests\n",
        "\n",
        "f_location = \"https://drive.google.com/file/d/1aJjKZAGiZbGNXDceTT1OkcTnRLDrojA8/view?usp=sharing\"\n",
        "file_id = f_location.split('/')[-2]\n",
        "download_url = f'https://drive.google.com/uc?export=download&id={file_id}'\n",
        "\n",
        "response = requests.get(download_url)\n",
        "\n",
        "keys = response.text.splitlines()\n",
        "\n",
        "# print(keys[:10])\n"
      ]
    },
    {
      "cell_type": "code",
      "source": [
        "!pip install pycryptodome\n",
        "\n",
        "from sys import argv\n",
        "from Crypto.Cipher import AES\n",
        "from Crypto.Util.Padding import pad"
      ],
      "metadata": {
        "id": "C_mHAQqyXMmH",
        "colab": {
          "base_uri": "https://localhost:8080/"
        },
        "outputId": "eb0fd9fc-f305-46ef-c65a-6fddd7c0b431"
      },
      "execution_count": 14,
      "outputs": [
        {
          "output_type": "stream",
          "name": "stdout",
          "text": [
            "Requirement already satisfied: pycryptodome in /usr/local/lib/python3.10/dist-packages (3.20.0)\n"
          ]
        }
      ]
    },
    {
      "cell_type": "code",
      "source": [
        "def findkey(plain, cipher, iv):\n",
        "\n",
        "  plain_bi = bytearray(plain, encoding = 'utf-8')\n",
        "  cipher_bi = bytearray.fromhex(cipher)\n",
        "  iv_bi = bytearray.fromhex(iv)\n",
        "\n",
        "  for k in keys:\n",
        "      if len(k) <= 16:\n",
        "          key = k + ' ' * (16 - len(k))\n",
        "          aes = AES.new(key = bytearray(key, encoding = 'utf-8'), mode = AES.MODE_CBC, iv = iv_bi)\n",
        "          plain_enc = aes.encrypt(pad(plain_bi, 16))\n",
        "\n",
        "          if plain_enc == cipher_bi:\n",
        "              print(\"the key is:\", key)\n"
      ],
      "metadata": {
        "id": "_i2FTDqXX9Ia"
      },
      "execution_count": 15,
      "outputs": []
    },
    {
      "cell_type": "code",
      "source": [
        "plain = \"This is a top secret.\"\n",
        "cipher = \"8d20e5056a8d24d0462ce74e4904c1b513e10d1df4a2ef2ad4540fae1ca0aaf9\"\n",
        "iv = \"00000000000000000000000000000000\"\n",
        "findkey(plain, cipher, iv)"
      ],
      "metadata": {
        "colab": {
          "base_uri": "https://localhost:8080/"
        },
        "id": "JUQAWod1aPXq",
        "outputId": "5698c3ef-2e97-4819-d9db-7baafdcd640f"
      },
      "execution_count": 16,
      "outputs": [
        {
          "output_type": "stream",
          "name": "stdout",
          "text": [
            "the key is: median          \n"
          ]
        }
      ]
    }
  ]
}